{
  "nbformat": 4,
  "nbformat_minor": 0,
  "metadata": {
    "colab": {
      "provenance": [],
      "authorship_tag": "ABX9TyMfBqbv5B4tBq4tgQAY7/Sf",
      "include_colab_link": true
    },
    "kernelspec": {
      "name": "python3",
      "display_name": "Python 3"
    },
    "language_info": {
      "name": "python"
    }
  },
  "cells": [
    {
      "cell_type": "markdown",
      "metadata": {
        "id": "view-in-github",
        "colab_type": "text"
      },
      "source": [
        "<a href=\"https://colab.research.google.com/github/lduran22/Actividades_de_participaciones/blob/master/Untitled11.ipynb\" target=\"_parent\"><img src=\"https://colab.research.google.com/assets/colab-badge.svg\" alt=\"Open In Colab\"/></a>"
      ]
    },
    {
      "cell_type": "markdown",
      "source": [
        "FACTORIAL"
      ],
      "metadata": {
        "id": "_jN5uaEo5jAh"
      }
    },
    {
      "cell_type": "code",
      "execution_count": 3,
      "metadata": {
        "colab": {
          "base_uri": "https://localhost:8080/"
        },
        "id": "zQ7Z8oGJ5aDc",
        "outputId": "4222eea1-d2b5-4850-b2db-53a3847f13d5"
      },
      "outputs": [
        {
          "output_type": "stream",
          "name": "stdout",
          "text": [
            "factorial Calculado : 40320\n"
          ]
        }
      ],
      "source": [
        "def factorial(numero):\n",
        "  if numero < 0:\n",
        "      return -1\n",
        "  if numero == 0:\n",
        "      return 1\n",
        "  if numero > 0:\n",
        "      return numero * factorial(numero-1)\n",
        "\n",
        "\n",
        "calculo_fac = factorial(8)\n",
        "print(\"factorial Calculado : \" +str(calculo_fac))"
      ]
    },
    {
      "cell_type": "markdown",
      "source": [
        "FIBONACCI"
      ],
      "metadata": {
        "id": "sdif8yX057oi"
      }
    },
    {
      "cell_type": "markdown",
      "source": [
        "TORRES DE HANOI"
      ],
      "metadata": {
        "id": "eMVWv-636ZEp"
      }
    },
    {
      "cell_type": "code",
      "source": [
        "def hanoi(n, origen, dest, aux):\n",
        "  if n == 1:\n",
        "    print(f\"Mover disco de {origen} a {dest}\")\n",
        "  else:\n",
        "    hanoi(n-1, origen, aux, dest)\n",
        "    print(f\"Mover disco {n} de {origen} al {dest}\")\n",
        "    hanoi(n-1, aux, dest, origen)\n",
        "\n",
        "hanoi(3, \"A\", \"C\", \"B\")"
      ],
      "metadata": {
        "colab": {
          "base_uri": "https://localhost:8080/"
        },
        "id": "M9eCgjFD6erq",
        "outputId": "972b5766-5d30-4b4b-87ff-4ba02c2da6c9"
      },
      "execution_count": 1,
      "outputs": [
        {
          "output_type": "stream",
          "name": "stdout",
          "text": [
            "Mover disco de A a C\n",
            "Mover disco 2 de A al B\n",
            "Mover disco de C a B\n",
            "Mover disco 3 de A al C\n",
            "Mover disco de B a A\n",
            "Mover disco 2 de B al C\n",
            "Mover disco de A a C\n"
          ]
        }
      ]
    },
    {
      "cell_type": "markdown",
      "source": [
        "CONTAR DIGITOS\n"
      ],
      "metadata": {
        "id": "IrslPzlc7M95"
      }
    },
    {
      "cell_type": "code",
      "source": [
        "def contar_digitos(numero, digitos):\n",
        "  if numero < 10:\n",
        "    return digitos + 1\n",
        "  else:\n",
        "    return contar_digitos(numero//10, digitos + 1)\n",
        "\n",
        "print(contar_digitos(12345, 0))"
      ],
      "metadata": {
        "colab": {
          "base_uri": "https://localhost:8080/"
        },
        "id": "dJQKRRJd7U1h",
        "outputId": "3b9c5488-a1f4-494a-dd9d-4f1f0dfd41c2"
      },
      "execution_count": 25,
      "outputs": [
        {
          "output_type": "stream",
          "name": "stdout",
          "text": [
            "5\n"
          ]
        }
      ]
    },
    {
      "cell_type": "markdown",
      "source": [
        "PALINDROMO"
      ],
      "metadata": {
        "id": "ySQijFdv-v1i"
      }
    },
    {
      "cell_type": "code",
      "source": [
        "def esPalindromo(palabra):\n",
        "\n",
        "  if len(palabra) <=1:\n",
        "    return True\n",
        "\n",
        "  if palabra[0] == palabra[-1]:\n",
        "    return esPalindromo(palabra[1:-1])\n",
        "  else:\n",
        "    return False\n",
        "\n",
        "Palabra1 = \"sometemos\"\n",
        "Palabra2 = \"rodador\"\n",
        "Palabra3 = \"naranjas\"\n",
        "\n",
        "print(f\"La palabra: {Palabra1} es un palindromo ? : {esPalindromo(Palabra1)}\")\n",
        "print(f\"La palabra: {Palabra2} es un palindromo ? : {esPalindromo(Palabra2)}\")\n",
        "print(f\"La palabra: {Palabra3} es un palindromo ? : {esPalindromo(Palabra3)}\")"
      ],
      "metadata": {
        "colab": {
          "base_uri": "https://localhost:8080/"
        },
        "id": "h4L17VCm-ydZ",
        "outputId": "e9a99256-6723-47ac-a345-95c15a0a29c4"
      },
      "execution_count": 26,
      "outputs": [
        {
          "output_type": "stream",
          "name": "stdout",
          "text": [
            "La palabra: sometemos es un palindromo ? : True\n",
            "La palabra: rodador es un palindromo ? : True\n",
            "La palabra: naranjas es un palindromo ? : False\n"
          ]
        }
      ]
    }
  ]
}